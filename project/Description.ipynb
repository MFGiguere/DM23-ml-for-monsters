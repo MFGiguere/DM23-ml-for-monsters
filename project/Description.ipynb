{
 "cells": [
  {
   "cell_type": "markdown",
   "id": "6f193303-6552-4aec-a92b-cbc389c99bac",
   "metadata": {},
   "source": [
    "The goal of the project is to lay the foundation of a patients portal that would be used for many functions such as (a) gather patients generated health data (PGDH) on which we could apply machine learning, (b) allow patients to populate their own medical records and (c) allow patients to visualise their health data. "
   ]
  },
  {
   "cell_type": "markdown",
   "id": "2ebd4b5a-d1ae-411a-a1ad-2ef9d187c08b",
   "metadata": {},
   "source": [
    "The scope of the project done during the bootcamp is to create a prototype of the full product. "
   ]
  },
  {
   "cell_type": "code",
   "execution_count": null,
   "id": "20e8f436-aab3-4ae8-af08-ae2b513f81bc",
   "metadata": {},
   "outputs": [],
   "source": []
  },
  {
   "cell_type": "code",
   "execution_count": 8,
   "id": "04a8868d-22ef-4791-bae6-23d07d492edb",
   "metadata": {
    "editable": true,
    "slideshow": {
     "slide_type": ""
    },
    "tags": []
   },
   "outputs": [
    {
     "ename": "TypeError",
     "evalue": "read expected 2 arguments, got 1",
     "output_type": "error",
     "traceback": [
      "\u001b[0;31m---------------------------------------------------------------------------\u001b[0m",
      "\u001b[0;31mTypeError\u001b[0m                                 Traceback (most recent call last)",
      "Cell \u001b[0;32mIn[8], line 3\u001b[0m\n\u001b[1;32m      1\u001b[0m \u001b[38;5;28;01mimport\u001b[39;00m \u001b[38;5;21;01mos\u001b[39;00m\n\u001b[1;32m      2\u001b[0m \u001b[38;5;28;01mwith\u001b[39;00m \u001b[38;5;28mopen\u001b[39m(\u001b[38;5;124m\"\u001b[39m\u001b[38;5;124mstatic/apis.csv\u001b[39m\u001b[38;5;124m\"\u001b[39m, encoding\u001b[38;5;241m=\u001b[39m\u001b[38;5;124m\"\u001b[39m\u001b[38;5;124mutf-8\u001b[39m\u001b[38;5;124m\"\u001b[39m) \u001b[38;5;28;01mas\u001b[39;00m f:\n\u001b[0;32m----> 3\u001b[0m     apis \u001b[38;5;241m=\u001b[39m \u001b[43mos\u001b[49m\u001b[38;5;241;43m.\u001b[39;49m\u001b[43mread\u001b[49m\u001b[43m(\u001b[49m\u001b[43mf\u001b[49m\u001b[43m)\u001b[49m\n",
      "\u001b[0;31mTypeError\u001b[0m: read expected 2 arguments, got 1"
     ]
    }
   ],
   "source": [
    "import csv\n",
    "with open(\"static/apis.csv\", encoding=\"utf-8\") as f:\n",
    "    apis = os.read(f)"
   ]
  },
  {
   "cell_type": "code",
   "execution_count": null,
   "id": "f8af0be0-5ac4-4efc-a74b-d69d2000eb95",
   "metadata": {},
   "outputs": [],
   "source": []
  }
 ],
 "metadata": {
  "kernelspec": {
   "display_name": "Python 3 (ipykernel)",
   "language": "python",
   "name": "python3"
  },
  "language_info": {
   "codemirror_mode": {
    "name": "ipython",
    "version": 3
   },
   "file_extension": ".py",
   "mimetype": "text/x-python",
   "name": "python",
   "nbconvert_exporter": "python",
   "pygments_lexer": "ipython3",
   "version": "3.11.4"
  }
 },
 "nbformat": 4,
 "nbformat_minor": 5
}
